{
  "cells": [
    {
      "cell_type": "markdown",
      "id": "a34bad55",
      "metadata": {
        "id": "a34bad55"
      },
      "source": [
        "# 1. What exactly is []?"
      ]
    },
    {
      "cell_type": "markdown",
      "id": "8575ab0a",
      "metadata": {
        "id": "8575ab0a"
      },
      "source": [
        "A list which contains no items. "
      ]
    },
    {
      "cell_type": "markdown",
      "id": "bf300251",
      "metadata": {
        "id": "bf300251"
      },
      "source": [
        "# 2. In a list of values stored in a variable called spam, how would you assign the value &#39;hello&#39; as the third value? (Assume [2, 4, 6, 8, 10] are in spam.)"
      ]
    },
    {
      "cell_type": "code",
      "execution_count": 1,
      "id": "a3e19758",
      "metadata": {
        "id": "a3e19758"
      },
      "outputs": [],
      "source": [
        "spam = [2,4,6,8,10]"
      ]
    },
    {
      "cell_type": "code",
      "execution_count": 2,
      "id": "40720c73",
      "metadata": {
        "id": "40720c73"
      },
      "outputs": [],
      "source": [
        "spam[2] = \"hello\""
      ]
    },
    {
      "cell_type": "code",
      "execution_count": 3,
      "id": "cbef7b87",
      "metadata": {
        "colab": {
          "base_uri": "https://localhost:8080/"
        },
        "id": "cbef7b87",
        "outputId": "1540d08d-534b-4871-f0d6-ee1428b83496"
      },
      "outputs": [
        {
          "output_type": "execute_result",
          "data": {
            "text/plain": [
              "[2, 4, 'hello', 8, 10]"
            ]
          },
          "metadata": {},
          "execution_count": 3
        }
      ],
      "source": [
        "spam"
      ]
    },
    {
      "cell_type": "markdown",
      "id": "71b0c4e7",
      "metadata": {
        "id": "71b0c4e7"
      },
      "source": [
        "# Let&#39;s pretend the spam includes the list [&#39;a&#39;, &#39;b&#39;, &#39;c&#39;, &#39;d&#39;] for the next three queries."
      ]
    },
    {
      "cell_type": "code",
      "execution_count": 4,
      "id": "18b9feb9",
      "metadata": {
        "id": "18b9feb9"
      },
      "outputs": [],
      "source": [
        "spam = ['a','b','c','d']"
      ]
    },
    {
      "cell_type": "markdown",
      "id": "fa54a69e",
      "metadata": {
        "id": "fa54a69e"
      },
      "source": [
        "# 3. What is the value of spam[int(int(&#39;3&#39; * 2) / 11)]?"
      ]
    },
    {
      "cell_type": "code",
      "execution_count": 5,
      "id": "b966b750",
      "metadata": {
        "colab": {
          "base_uri": "https://localhost:8080/",
          "height": 35
        },
        "id": "b966b750",
        "outputId": "3beee077-5619-4d5a-9366-38ba0daf54f7"
      },
      "outputs": [
        {
          "output_type": "execute_result",
          "data": {
            "text/plain": [
              "'d'"
            ],
            "application/vnd.google.colaboratory.intrinsic+json": {
              "type": "string"
            }
          },
          "metadata": {},
          "execution_count": 5
        }
      ],
      "source": [
        "spam[int(int('3'*2)/11)]"
      ]
    },
    {
      "cell_type": "markdown",
      "id": "f00367e8",
      "metadata": {
        "id": "f00367e8"
      },
      "source": [
        "'3' * 2 is the string '33', which is passed to int() before being divided by 11. This eventually evaluates to 3. Expressions can be used wherever values are used."
      ]
    },
    {
      "cell_type": "markdown",
      "id": "551db901",
      "metadata": {
        "id": "551db901"
      },
      "source": [
        "# 4. What is the value of spam[-1]?"
      ]
    },
    {
      "cell_type": "code",
      "execution_count": 6,
      "id": "bdaf9c21",
      "metadata": {
        "colab": {
          "base_uri": "https://localhost:8080/",
          "height": 35
        },
        "id": "bdaf9c21",
        "outputId": "592add3c-c154-4946-fe20-f134e6d99fa9"
      },
      "outputs": [
        {
          "output_type": "execute_result",
          "data": {
            "text/plain": [
              "'d'"
            ],
            "application/vnd.google.colaboratory.intrinsic+json": {
              "type": "string"
            }
          },
          "metadata": {},
          "execution_count": 6
        }
      ],
      "source": [
        "spam[-1]"
      ]
    },
    {
      "cell_type": "markdown",
      "id": "99c4084e",
      "metadata": {
        "id": "99c4084e"
      },
      "source": [
        "Negative indexes count from the right.\n"
      ]
    },
    {
      "cell_type": "markdown",
      "id": "09434da4",
      "metadata": {
        "id": "09434da4"
      },
      "source": [
        "# 5. What is the value of spam[:2]?"
      ]
    },
    {
      "cell_type": "code",
      "execution_count": 7,
      "id": "6c711c03",
      "metadata": {
        "colab": {
          "base_uri": "https://localhost:8080/"
        },
        "id": "6c711c03",
        "outputId": "5659f30f-93a4-4340-afe7-7a322ba7b2f1"
      },
      "outputs": [
        {
          "output_type": "execute_result",
          "data": {
            "text/plain": [
              "['a', 'b']"
            ]
          },
          "metadata": {},
          "execution_count": 7
        }
      ],
      "source": [
        "spam[:2]"
      ]
    },
    {
      "cell_type": "markdown",
      "id": "533ed777",
      "metadata": {
        "id": "533ed777"
      },
      "source": [
        "# Let&#39;s pretend bacon has the list [3.14, &#39;cat,&#39; 11, &#39;cat,&#39; True] for the next three questions."
      ]
    },
    {
      "cell_type": "code",
      "execution_count": 8,
      "id": "b465212f",
      "metadata": {
        "id": "b465212f"
      },
      "outputs": [],
      "source": [
        "bacon = [3.14,'cat',11,'cat',True]"
      ]
    },
    {
      "cell_type": "markdown",
      "id": "5ae27da3",
      "metadata": {
        "id": "5ae27da3"
      },
      "source": [
        "# 6. What is the value of bacon.index(&#39;cat&#39;)?"
      ]
    },
    {
      "cell_type": "code",
      "execution_count": 9,
      "id": "c36b4e0b",
      "metadata": {
        "id": "c36b4e0b",
        "outputId": "f91c65ea-2ccf-489e-88e7-2b4b2523cba3",
        "colab": {
          "base_uri": "https://localhost:8080/"
        }
      },
      "outputs": [
        {
          "output_type": "execute_result",
          "data": {
            "text/plain": [
              "1"
            ]
          },
          "metadata": {},
          "execution_count": 9
        }
      ],
      "source": [
        "bacon.index('cat')"
      ]
    },
    {
      "cell_type": "markdown",
      "id": "44f9f62c",
      "metadata": {
        "id": "44f9f62c"
      },
      "source": [
        "# 7. How does bacon.append(99) change the look of the list value in bacon?"
      ]
    },
    {
      "cell_type": "code",
      "execution_count": 10,
      "id": "7db5dd5d",
      "metadata": {
        "id": "7db5dd5d"
      },
      "outputs": [],
      "source": [
        "bacon = [3.14,'cat',11,'cat',True] "
      ]
    },
    {
      "cell_type": "code",
      "execution_count": 11,
      "id": "37931e3d",
      "metadata": {
        "id": "37931e3d"
      },
      "outputs": [],
      "source": [
        "bacon.append(99)"
      ]
    },
    {
      "cell_type": "code",
      "execution_count": 12,
      "id": "ccebede8",
      "metadata": {
        "id": "ccebede8",
        "outputId": "d5f2e504-1782-4639-ea2d-82676d885805",
        "colab": {
          "base_uri": "https://localhost:8080/"
        }
      },
      "outputs": [
        {
          "output_type": "execute_result",
          "data": {
            "text/plain": [
              "[3.14, 'cat', 11, 'cat', True, 99]"
            ]
          },
          "metadata": {},
          "execution_count": 12
        }
      ],
      "source": [
        "bacon"
      ]
    },
    {
      "cell_type": "markdown",
      "id": "5438565b",
      "metadata": {
        "id": "5438565b"
      },
      "source": [
        "# 8. How does bacon.remove(&#39;cat&#39;) change the look of the list in bacon?"
      ]
    },
    {
      "cell_type": "code",
      "execution_count": 13,
      "id": "4c03c4f9",
      "metadata": {
        "id": "4c03c4f9",
        "outputId": "93237744-8174-424b-b214-d5f13cebcdce",
        "colab": {
          "base_uri": "https://localhost:8080/"
        }
      },
      "outputs": [
        {
          "output_type": "execute_result",
          "data": {
            "text/plain": [
              "[3.14, 'cat', 11, 'cat', True, 99]"
            ]
          },
          "metadata": {},
          "execution_count": 13
        }
      ],
      "source": [
        "bacon"
      ]
    },
    {
      "cell_type": "code",
      "execution_count": 14,
      "id": "52066194",
      "metadata": {
        "id": "52066194"
      },
      "outputs": [],
      "source": [
        "bacon.remove('cat')"
      ]
    },
    {
      "cell_type": "code",
      "execution_count": 15,
      "id": "fce4cd71",
      "metadata": {
        "id": "fce4cd71",
        "outputId": "caea9ded-ad41-41d0-f730-f71cd4564921",
        "colab": {
          "base_uri": "https://localhost:8080/"
        }
      },
      "outputs": [
        {
          "output_type": "execute_result",
          "data": {
            "text/plain": [
              "[3.14, 11, 'cat', True, 99]"
            ]
          },
          "metadata": {},
          "execution_count": 15
        }
      ],
      "source": [
        "bacon"
      ]
    },
    {
      "cell_type": "markdown",
      "id": "76575676",
      "metadata": {
        "id": "76575676"
      },
      "source": [
        "# 9. What are the list concatenation and list replication operators?"
      ]
    },
    {
      "cell_type": "markdown",
      "id": "3261bcfc",
      "metadata": {
        "id": "3261bcfc"
      },
      "source": [
        "The operator for list concatenation is +, and for list replication is *."
      ]
    },
    {
      "cell_type": "markdown",
      "id": "c6ef20b0",
      "metadata": {
        "id": "c6ef20b0"
      },
      "source": [
        "# 10. What is difference between the list methods append() and insert()?"
      ]
    },
    {
      "cell_type": "markdown",
      "id": "d22a4bc6",
      "metadata": {
        "id": "d22a4bc6"
      },
      "source": [
        "The list append() method will add value at the end only, whereas insert() method can add value at any index in the list.  "
      ]
    },
    {
      "cell_type": "markdown",
      "id": "d3d0c158",
      "metadata": {
        "id": "d3d0c158"
      },
      "source": [
        "# 11. What are the two methods for removing items from a list?"
      ]
    },
    {
      "cell_type": "code",
      "source": [
        "l = [1,2,3,4,5,6]\n",
        "l.pop(2) #l.remove(2)\n",
        "l"
      ],
      "metadata": {
        "colab": {
          "base_uri": "https://localhost:8080/"
        },
        "id": "WHMLZqjySrJc",
        "outputId": "050b53b1-58c1-47f4-cd3a-11929576c040"
      },
      "id": "WHMLZqjySrJc",
      "execution_count": 23,
      "outputs": [
        {
          "output_type": "execute_result",
          "data": {
            "text/plain": [
              "[1, 2, 4, 5, 6]"
            ]
          },
          "metadata": {},
          "execution_count": 23
        }
      ]
    },
    {
      "cell_type": "markdown",
      "id": "e22e9d5a",
      "metadata": {
        "id": "e22e9d5a"
      },
      "source": [
        "We can remove an item from the list by passing the value of the item in remove() function.\n",
        "Also, pop() method can be used  to remove an item of the list using its index."
      ]
    },
    {
      "cell_type": "markdown",
      "id": "6927ba4f",
      "metadata": {
        "id": "6927ba4f"
      },
      "source": [
        "# 12. Describe how list values and string values are identical."
      ]
    },
    {
      "cell_type": "markdown",
      "id": "31e7696a",
      "metadata": {
        "id": "31e7696a"
      },
      "source": [
        "Lists are similar to strings, which are ordered collection of characters, except that the elements of a list can have different data types.\n",
        "\n",
        "Both strings and lists have lengths: a string's length is the number of characters in the string; a list's length is the number of items in the list.\n",
        "\n",
        "Both lists and strings have indexes and can be sliced, be used in 'for' loops, be concatenated or replicated."
      ]
    },
    {
      "cell_type": "markdown",
      "id": "9dbd11eb",
      "metadata": {
        "id": "9dbd11eb"
      },
      "source": [
        "# 13. What&#39;s the difference between tuples and lists?"
      ]
    },
    {
      "cell_type": "markdown",
      "id": "8f83cc37",
      "metadata": {
        "id": "8f83cc37"
      },
      "source": [
        "Tuples are immutable: they cannot be changed at all. Whereas, Lists are mutable: they can have values added, removed, or changed. Also, tuples are written using parentheses: ( ), while lists use the square brackets: [ ]."
      ]
    },
    {
      "cell_type": "markdown",
      "id": "cf69d704",
      "metadata": {
        "id": "cf69d704"
      },
      "source": [
        "# 14. How do you type a tuple value that only contains the integer 42?"
      ]
    },
    {
      "cell_type": "code",
      "execution_count": 24,
      "id": "c761306f",
      "metadata": {
        "id": "c761306f"
      },
      "outputs": [],
      "source": [
        "t = (42,)"
      ]
    },
    {
      "cell_type": "code",
      "execution_count": 25,
      "id": "0050d206",
      "metadata": {
        "id": "0050d206",
        "outputId": "b547c076-7a88-48c5-fedb-c51860c4bb26",
        "colab": {
          "base_uri": "https://localhost:8080/"
        }
      },
      "outputs": [
        {
          "output_type": "execute_result",
          "data": {
            "text/plain": [
              "tuple"
            ]
          },
          "metadata": {},
          "execution_count": 25
        }
      ],
      "source": [
        "type(t)"
      ]
    },
    {
      "cell_type": "markdown",
      "id": "c3a37203",
      "metadata": {
        "id": "c3a37203"
      },
      "source": [
        "*The trailing comma is mandatory."
      ]
    },
    {
      "cell_type": "markdown",
      "id": "2b96c57e",
      "metadata": {
        "id": "2b96c57e"
      },
      "source": [
        "# 15. How do you get a list value&#39;s tuple form? How do you get a tuple value&#39;s list form?"
      ]
    },
    {
      "cell_type": "code",
      "execution_count": 26,
      "id": "051e37e4",
      "metadata": {
        "id": "051e37e4"
      },
      "outputs": [],
      "source": [
        "t = [1,2,3,4]"
      ]
    },
    {
      "cell_type": "code",
      "execution_count": 28,
      "id": "70c44bd5",
      "metadata": {
        "id": "70c44bd5",
        "outputId": "b2eaba39-257a-4c85-a99a-918c426960fa",
        "colab": {
          "base_uri": "https://localhost:8080/"
        }
      },
      "outputs": [
        {
          "output_type": "execute_result",
          "data": {
            "text/plain": [
              "list"
            ]
          },
          "metadata": {},
          "execution_count": 28
        }
      ],
      "source": [
        "type(t)"
      ]
    },
    {
      "cell_type": "code",
      "execution_count": 32,
      "id": "c75e1f22",
      "metadata": {
        "id": "c75e1f22"
      },
      "outputs": [],
      "source": [
        "t1 = tuple(t)"
      ]
    },
    {
      "cell_type": "code",
      "source": [
        "print(t1)\n",
        "type(t1)"
      ],
      "metadata": {
        "colab": {
          "base_uri": "https://localhost:8080/"
        },
        "id": "uCJlJ0NVg7VT",
        "outputId": "7a657dc6-60c3-46be-8c78-62dea939ea68"
      },
      "id": "uCJlJ0NVg7VT",
      "execution_count": 35,
      "outputs": [
        {
          "output_type": "stream",
          "name": "stdout",
          "text": [
            "(1, 2, 3, 4)\n"
          ]
        },
        {
          "output_type": "execute_result",
          "data": {
            "text/plain": [
              "tuple"
            ]
          },
          "metadata": {},
          "execution_count": 35
        }
      ]
    },
    {
      "cell_type": "code",
      "execution_count": 36,
      "id": "cb20f464",
      "metadata": {
        "id": "cb20f464",
        "outputId": "6ec390d6-ff0c-4d70-c9e6-f7812577a286",
        "colab": {
          "base_uri": "https://localhost:8080/"
        }
      },
      "outputs": [
        {
          "output_type": "execute_result",
          "data": {
            "text/plain": [
              "[1, 2, 3, 4]"
            ]
          },
          "metadata": {},
          "execution_count": 36
        }
      ],
      "source": [
        "list(t1)"
      ]
    },
    {
      "cell_type": "markdown",
      "id": "1bed4cee",
      "metadata": {
        "id": "1bed4cee"
      },
      "source": [
        "By using list() and tuple() function."
      ]
    },
    {
      "cell_type": "markdown",
      "id": "5156b19c",
      "metadata": {
        "id": "5156b19c"
      },
      "source": [
        "# 16. Variables that &quot;contain&quot; list values are not necessarily lists themselves. Instead, what do they contain?"
      ]
    },
    {
      "cell_type": "markdown",
      "source": [
        "Variables will contain references to list values rather than list values themselves. \n",
        "\n",
        "See example below, where variable 'spam' is just list reference. In the next line, copies only the list reference in spam to cool, not the list value itself. This means the values stored in spam and cool now both refer to the same list. There is only one underlying list because the list itself was never actually copied."
      ],
      "metadata": {
        "id": "w7LqQT2Mnab6"
      },
      "id": "w7LqQT2Mnab6"
    },
    {
      "cell_type": "code",
      "source": [
        "spam = [1,2,3,4,5]"
      ],
      "metadata": {
        "id": "bmGvUUTZmy7c"
      },
      "id": "bmGvUUTZmy7c",
      "execution_count": 40,
      "outputs": []
    },
    {
      "cell_type": "code",
      "source": [
        "cool = spam"
      ],
      "metadata": {
        "id": "CbUiPWjVnAy_"
      },
      "id": "CbUiPWjVnAy_",
      "execution_count": 41,
      "outputs": []
    },
    {
      "cell_type": "code",
      "source": [
        "cool[1] = 'Hello'"
      ],
      "metadata": {
        "id": "IX6ptLwnnBqX"
      },
      "id": "IX6ptLwnnBqX",
      "execution_count": 42,
      "outputs": []
    },
    {
      "cell_type": "code",
      "source": [
        "spam"
      ],
      "metadata": {
        "colab": {
          "base_uri": "https://localhost:8080/"
        },
        "id": "Na1wlQZ4nG9i",
        "outputId": "34abeac3-e38c-4cd7-b3ca-7fd0c524cc84"
      },
      "id": "Na1wlQZ4nG9i",
      "execution_count": 43,
      "outputs": [
        {
          "output_type": "execute_result",
          "data": {
            "text/plain": [
              "[1, 'Hello', 3, 4, 5]"
            ]
          },
          "metadata": {},
          "execution_count": 43
        }
      ]
    },
    {
      "cell_type": "markdown",
      "id": "52104423",
      "metadata": {
        "id": "52104423"
      },
      "source": [
        "# 17. How do you distinguish between copy.copy() and copy.deepcopy()?"
      ]
    },
    {
      "cell_type": "markdown",
      "id": "77470e84",
      "metadata": {
        "id": "77470e84"
      },
      "source": [
        "The copy.copy() function will do a shallow copy of an object, while the copy.deepcopy() function will do a deep copy of an object.\n",
        "\n",
        "In the case of shallow copy, a reference of an object is copied into another object. It means that any changes made to a copy of an object do reflect in the original object.\n",
        "\n",
        "In the case of deep copy, a copy of the object is copied into another object. It means that any changes made to a copy of the object do not reflect in the original object. "
      ]
    }
  ],
  "metadata": {
    "kernelspec": {
      "display_name": "Python 3 (ipykernel)",
      "language": "python",
      "name": "python3"
    },
    "language_info": {
      "codemirror_mode": {
        "name": "ipython",
        "version": 3
      },
      "file_extension": ".py",
      "mimetype": "text/x-python",
      "name": "python",
      "nbconvert_exporter": "python",
      "pygments_lexer": "ipython3",
      "version": "3.9.7"
    },
    "colab": {
      "provenance": []
    }
  },
  "nbformat": 4,
  "nbformat_minor": 5
}