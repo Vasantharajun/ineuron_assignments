{
  "cells": [
    {
      "cell_type": "markdown",
      "id": "4427bf14",
      "metadata": {
        "id": "4427bf14"
      },
      "source": [
        "# 1. In the below elements which of them are values or an expression? eg:- values can be integer or string and expressions will be mathematical operators."
      ]
    },
    {
      "cell_type": "markdown",
      "id": "2106d073",
      "metadata": {
        "id": "2106d073"
      },
      "source": [
        "* , - , / , + : these are expressions."
      ]
    },
    {
      "cell_type": "markdown",
      "id": "f57c24a5",
      "metadata": {
        "id": "f57c24a5"
      },
      "source": [
        "'hello' , -87.8, 6 : these are values."
      ]
    },
    {
      "cell_type": "markdown",
      "id": "61b13aee",
      "metadata": {
        "id": "61b13aee"
      },
      "source": [
        "# 2. What is the difference between string and variable?"
      ]
    },
    {
      "cell_type": "markdown",
      "id": "cb939c19",
      "metadata": {
        "id": "cb939c19"
      },
      "source": [
        "String is a type of information you would store in a Variable. String is usually words enclosed with single or double quotes."
      ]
    },
    {
      "cell_type": "markdown",
      "id": "6bd5e9fb",
      "metadata": {
        "id": "6bd5e9fb"
      },
      "source": [
        "Variable is a store of information.\n",
        "\n",
        "x = \"Vasanth\", where x is the Variable, and we declared it as a String."
      ]
    },
    {
      "cell_type": "markdown",
      "id": "4498fe34",
      "metadata": {
        "id": "4498fe34"
      },
      "source": [
        "# 3. Describe three different data types."
      ]
    },
    {
      "cell_type": "markdown",
      "id": "98074e00",
      "metadata": {
        "id": "98074e00"
      },
      "source": [
        "Numeric data type :  This holds numeric values. Integer, float and complex data types fall under Numeric data types. Int - holds signed integers of non-limited length, float - holds floating decimal points and it's accurate up to 15 decimal places and complex - holds complex numbers.\n"
      ]
    },
    {
      "cell_type": "markdown",
      "id": "a1f887c3",
      "metadata": {
        "id": "a1f887c3"
      },
      "source": [
        "String data type : String is a sequence of characters represented by either single or double quotes. ex : x = 'vasanth' "
      ]
    },
    {
      "cell_type": "markdown",
      "id": "0ead5201",
      "metadata": {
        "id": "0ead5201"
      },
      "source": [
        "List data type : List is an ordered collection of similar or different types of items separated by commas and enclosed within brackets []. ex : lang = [\"C\", \"IDL\", \"Java\", \"Python\"]"
      ]
    },
    {
      "cell_type": "markdown",
      "id": "fd87a3ea",
      "metadata": {
        "id": "fd87a3ea"
      },
      "source": [
        "# 4. What is an expression made up of? What do all expressions do?"
      ]
    },
    {
      "cell_type": "markdown",
      "id": "0da4d1e1",
      "metadata": {
        "id": "0da4d1e1"
      },
      "source": [
        "An expression is made up of operators and operands that is interpreted to produce some other value.\n",
        "Expressions represents the value as per the preference of its operators. For example:"
      ]
    },
    {
      "cell_type": "code",
      "execution_count": 2,
      "id": "3d28abfe",
      "metadata": {
        "id": "3d28abfe"
      },
      "outputs": [],
      "source": [
        "a = 2 + 5 * 9"
      ]
    },
    {
      "cell_type": "code",
      "execution_count": 3,
      "id": "db9e71f8",
      "metadata": {
        "colab": {
          "base_uri": "https://localhost:8080/"
        },
        "id": "db9e71f8",
        "outputId": "4ac4dcc7-5b6b-4451-a3ef-b51df18efedc"
      },
      "outputs": [
        {
          "output_type": "stream",
          "name": "stdout",
          "text": [
            "47\n"
          ]
        }
      ],
      "source": [
        "print(a)"
      ]
    },
    {
      "cell_type": "markdown",
      "id": "7aebdcbf",
      "metadata": {
        "id": "7aebdcbf"
      },
      "source": [
        "# 5. This assignment statements, like spam = 10. What is the difference between an expression and a statement?"
      ]
    },
    {
      "cell_type": "markdown",
      "id": "56cf4d81",
      "metadata": {
        "id": "56cf4d81"
      },
      "source": [
        " If you can print it, or assign it to a variable, it’s an expression. If you can’t, it’s a statement."
      ]
    },
    {
      "cell_type": "markdown",
      "id": "1101c1c2",
      "metadata": {
        "id": "1101c1c2"
      },
      "source": [
        "# 6. After running the following code, what does the variable bacon contain?"
      ]
    },
    {
      "cell_type": "code",
      "execution_count": 4,
      "id": "4e2e1d96",
      "metadata": {
        "colab": {
          "base_uri": "https://localhost:8080/"
        },
        "id": "4e2e1d96",
        "outputId": "54e8c22e-5722-4d43-9327-fd9fd2d5800d"
      },
      "outputs": [
        {
          "output_type": "execute_result",
          "data": {
            "text/plain": [
              "23"
            ]
          },
          "metadata": {},
          "execution_count": 4
        }
      ],
      "source": [
        "bacon = 22\n",
        "bacon + 1"
      ]
    },
    {
      "cell_type": "code",
      "execution_count": 6,
      "id": "329143d4",
      "metadata": {
        "colab": {
          "base_uri": "https://localhost:8080/"
        },
        "id": "329143d4",
        "outputId": "dd54ad8c-43ea-42f9-92bd-a38242327c5c"
      },
      "outputs": [
        {
          "output_type": "stream",
          "name": "stdout",
          "text": [
            "22\n"
          ]
        }
      ],
      "source": [
        "print(bacon)"
      ]
    },
    {
      "cell_type": "markdown",
      "id": "35528f48",
      "metadata": {
        "id": "35528f48"
      },
      "source": [
        "The bacon variable contains 22. The bacon + 1 expression does not reassign the value in bacon. "
      ]
    },
    {
      "cell_type": "markdown",
      "id": "5661cac8",
      "metadata": {
        "id": "5661cac8"
      },
      "source": [
        "# 7. What should the values of the following two terms be?"
      ]
    },
    {
      "cell_type": "code",
      "execution_count": 7,
      "id": "ecab1ee2",
      "metadata": {
        "colab": {
          "base_uri": "https://localhost:8080/",
          "height": 35
        },
        "id": "ecab1ee2",
        "outputId": "38401928-1a61-4479-fe27-b8ce7c5c8134"
      },
      "outputs": [
        {
          "output_type": "execute_result",
          "data": {
            "text/plain": [
              "'spamspamsapm'"
            ],
            "application/vnd.google.colaboratory.intrinsic+json": {
              "type": "string"
            }
          },
          "metadata": {},
          "execution_count": 7
        }
      ],
      "source": [
        "'spam'+'spamsapm'"
      ]
    },
    {
      "cell_type": "code",
      "source": [
        "'spam'*3"
      ],
      "metadata": {
        "colab": {
          "base_uri": "https://localhost:8080/",
          "height": 35
        },
        "id": "O1TrXi4rRw4a",
        "outputId": "e01d9529-576c-4bdd-e192-e3c85cc345f6"
      },
      "id": "O1TrXi4rRw4a",
      "execution_count": 8,
      "outputs": [
        {
          "output_type": "execute_result",
          "data": {
            "text/plain": [
              "'spamspamspam'"
            ],
            "application/vnd.google.colaboratory.intrinsic+json": {
              "type": "string"
            }
          },
          "metadata": {},
          "execution_count": 8
        }
      ]
    },
    {
      "cell_type": "markdown",
      "id": "e284fd1e",
      "metadata": {
        "id": "e284fd1e"
      },
      "source": [
        "Both will be the same."
      ]
    },
    {
      "cell_type": "markdown",
      "id": "65eb4b73",
      "metadata": {
        "id": "65eb4b73"
      },
      "source": [
        "# 8. Why is eggs a valid variable name while 100 is invalid?"
      ]
    },
    {
      "cell_type": "markdown",
      "id": "ff4f8fa4",
      "metadata": {
        "id": "ff4f8fa4"
      },
      "source": [
        "Because we can't begin a variable name with a integer."
      ]
    },
    {
      "cell_type": "markdown",
      "id": "1b19d86f",
      "metadata": {
        "id": "1b19d86f"
      },
      "source": [
        "# 9. What three functions can be used to get the integer, floating-point number, or string version of a value?"
      ]
    },
    {
      "cell_type": "markdown",
      "id": "ebfa34f2",
      "metadata": {
        "id": "ebfa34f2"
      },
      "source": [
        "The int(), float(), and str() functions will fix the value to the integer, floating-point number, and string."
      ]
    },
    {
      "cell_type": "markdown",
      "id": "e1d6d1c8",
      "metadata": {
        "id": "e1d6d1c8"
      },
      "source": [
        "# 10. Why does this expression cause an error? How can you fix it?"
      ]
    },
    {
      "cell_type": "code",
      "execution_count": 9,
      "id": "aba8c4ce",
      "metadata": {
        "colab": {
          "base_uri": "https://localhost:8080/",
          "height": 168
        },
        "id": "aba8c4ce",
        "outputId": "4712364f-f629-4e33-801d-a7f3fcd2e613"
      },
      "outputs": [
        {
          "output_type": "error",
          "ename": "TypeError",
          "evalue": "ignored",
          "traceback": [
            "\u001b[0;31m---------------------------------------------------------------------------\u001b[0m",
            "\u001b[0;31mTypeError\u001b[0m                                 Traceback (most recent call last)",
            "\u001b[0;32m<ipython-input-9-9230c793b9b6>\u001b[0m in \u001b[0;36m<cell line: 1>\u001b[0;34m()\u001b[0m\n\u001b[0;32m----> 1\u001b[0;31m \u001b[0;34m'I have eaten'\u001b[0m \u001b[0;34m+\u001b[0m \u001b[0;36m99\u001b[0m \u001b[0;34m+\u001b[0m \u001b[0;34m'burritos'\u001b[0m\u001b[0;34m\u001b[0m\u001b[0;34m\u001b[0m\u001b[0m\n\u001b[0m",
            "\u001b[0;31mTypeError\u001b[0m: can only concatenate str (not \"int\") to str"
          ]
        }
      ],
      "source": [
        "'I have eaten' + 99 + 'burritos'"
      ]
    },
    {
      "cell_type": "markdown",
      "id": "9657df7c",
      "metadata": {
        "id": "9657df7c"
      },
      "source": [
        "This expression causes an error because 99 is an integer and other values are string. we can't concatenate integer with string.\n",
        "We can fix it by enclosing it with quotes like this '99', then we can concatenate string."
      ]
    },
    {
      "cell_type": "code",
      "execution_count": 10,
      "id": "305a1d52",
      "metadata": {
        "colab": {
          "base_uri": "https://localhost:8080/",
          "height": 35
        },
        "id": "305a1d52",
        "outputId": "2ede78c1-23bd-4f5e-bb79-9bd4dd634257"
      },
      "outputs": [
        {
          "output_type": "execute_result",
          "data": {
            "text/plain": [
              "'I have eaten 99 burritos'"
            ],
            "application/vnd.google.colaboratory.intrinsic+json": {
              "type": "string"
            }
          },
          "metadata": {},
          "execution_count": 10
        }
      ],
      "source": [
        "'I have eaten' + ' 99 ' + 'burritos'"
      ]
    }
  ],
  "metadata": {
    "kernelspec": {
      "display_name": "Python 3 (ipykernel)",
      "language": "python",
      "name": "python3"
    },
    "language_info": {
      "codemirror_mode": {
        "name": "ipython",
        "version": 3
      },
      "file_extension": ".py",
      "mimetype": "text/x-python",
      "name": "python",
      "nbconvert_exporter": "python",
      "pygments_lexer": "ipython3",
      "version": "3.9.7"
    },
    "colab": {
      "provenance": []
    }
  },
  "nbformat": 4,
  "nbformat_minor": 5
}