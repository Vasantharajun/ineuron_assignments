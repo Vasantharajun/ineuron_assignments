{
  "cells": [
    {
      "cell_type": "markdown",
      "id": "c71201f2",
      "metadata": {
        "id": "c71201f2"
      },
      "source": [
        "# 1. Why are functions advantageous to have in your programs?"
      ]
    },
    {
      "cell_type": "markdown",
      "id": "221ca64e",
      "metadata": {
        "id": "221ca64e"
      },
      "source": [
        "Functions reduce the need for duplicate code. This makes programs shorter, easier to read, and easier to update."
      ]
    },
    {
      "cell_type": "markdown",
      "id": "d8afa8d2",
      "metadata": {
        "id": "d8afa8d2"
      },
      "source": [
        "# 2. When does the code in a function run: when its specified or when its called?"
      ]
    },
    {
      "cell_type": "markdown",
      "id": "5e2e24bd",
      "metadata": {
        "id": "5e2e24bd"
      },
      "source": [
        "The code in a function executes when the function is called, not when the function is defined."
      ]
    },
    {
      "cell_type": "markdown",
      "id": "33c58663",
      "metadata": {
        "id": "33c58663"
      },
      "source": [
        "# 3. What statement creates a function?"
      ]
    },
    {
      "cell_type": "markdown",
      "id": "3dae6c11",
      "metadata": {
        "id": "3dae6c11"
      },
      "source": [
        "The def statement creates ( or defines) a function."
      ]
    },
    {
      "cell_type": "markdown",
      "id": "2c091517",
      "metadata": {
        "id": "2c091517"
      },
      "source": [
        "# 4. What is the difference between a function and a function call?"
      ]
    },
    {
      "cell_type": "markdown",
      "id": "579ed5e8",
      "metadata": {
        "id": "579ed5e8"
      },
      "source": [
        "A function is a piece of code which enhanced the reusability and modularity of your program. It means that piece of code need not be written again.\n",
        "\n",
        "A function call means invoking or calling that function. Unless a function is called there is no use of that function.\n"
      ]
    },
    {
      "cell_type": "markdown",
      "id": "34a710ab",
      "metadata": {
        "id": "34a710ab"
      },
      "source": [
        "# 5. How many global scopes are there in a Python program? How many local scopes?"
      ]
    },
    {
      "cell_type": "markdown",
      "id": "81ad5334",
      "metadata": {
        "id": "81ad5334"
      },
      "source": [
        "There's only one global Python scope per program execution. Global scope is the top-most scope in a Python program or module. This Python scope contains all of the variables that you define at the top level of a program or a module. variables in this Python scope are visible from everywhere in your code.\n",
        "\n",
        "There's only one local scope. Local (or function) scope is the code block or body of any Python function or lambda expression. This Python scope contains the variables that you define inside the function. These varaibles will only be visible from the code of the function. \n",
        "\n",
        "In simple terms, variables defined outside a function are called global variables and variables defined within a function are local variables.\n",
        "\n"
      ]
    },
    {
      "cell_type": "markdown",
      "id": "579c3a28",
      "metadata": {
        "id": "579c3a28"
      },
      "source": [
        "# 6. What happens to variables in a local scope when the function call returns?"
      ]
    },
    {
      "cell_type": "markdown",
      "id": "763750fa",
      "metadata": {
        "id": "763750fa"
      },
      "source": [
        "When a function returns, the local scope is destroyed, and all the variables in it are forgotten"
      ]
    },
    {
      "cell_type": "markdown",
      "id": "25a4b8a9",
      "metadata": {
        "id": "25a4b8a9"
      },
      "source": [
        "# 7. What is the concept of a return value? Is it possible to have a return value in an expression?"
      ]
    },
    {
      "cell_type": "markdown",
      "id": "fc24cd99",
      "metadata": {
        "id": "fc24cd99"
      },
      "source": [
        "A return value is the value that a function call evaluates to. Like any value, a return value can be used as part of an expression."
      ]
    },
    {
      "cell_type": "markdown",
      "id": "5b64f63e",
      "metadata": {
        "id": "5b64f63e"
      },
      "source": [
        "# 8. If a function does not have a return statement, what is the return value of a call to that function?"
      ]
    },
    {
      "cell_type": "markdown",
      "id": "69a3c845",
      "metadata": {
        "id": "69a3c845"
      },
      "source": [
        "If there is no return statement for a function, its return value is None."
      ]
    },
    {
      "cell_type": "markdown",
      "id": "9c2a3099",
      "metadata": {
        "id": "9c2a3099"
      },
      "source": [
        "# 9. How do you make a function variable refer to the global variable?"
      ]
    },
    {
      "cell_type": "markdown",
      "id": "5a787a16",
      "metadata": {
        "id": "5a787a16"
      },
      "source": [
        "When a variable is created inside a function then the variable is local and can only be used inside that function. To create a global variable inside a function, one can use the global keyword."
      ]
    },
    {
      "cell_type": "markdown",
      "id": "6f9e5f24",
      "metadata": {
        "id": "6f9e5f24"
      },
      "source": [
        "# 10. What is the data type of None?"
      ]
    },
    {
      "cell_type": "markdown",
      "id": "f23631c9",
      "metadata": {
        "id": "f23631c9"
      },
      "source": [
        "The data type of None is NoneType."
      ]
    },
    {
      "cell_type": "markdown",
      "id": "6fb31b1d",
      "metadata": {
        "id": "6fb31b1d"
      },
      "source": [
        "# 11. What does the sentence import areallyourpetsnamederic do?"
      ]
    },
    {
      "cell_type": "markdown",
      "id": "20c7ca8c",
      "metadata": {
        "id": "20c7ca8c"
      },
      "source": [
        "That import statement imports a module named areallyourpetsnamederic. (This isn’t a real Python module, by the way.)"
      ]
    },
    {
      "cell_type": "markdown",
      "id": "c84fecf0",
      "metadata": {
        "id": "c84fecf0"
      },
      "source": [
        "# 12. If you had a bacon() feature in a spam module, what would you call it after importing spam?"
      ]
    },
    {
      "cell_type": "markdown",
      "id": "22789b4a",
      "metadata": {
        "id": "22789b4a"
      },
      "source": [
        "The function can be called with spam.bacon()\n",
        "\n",
        "i.e., import spam\n",
        "\n",
        "      spam.bacon()"
      ]
    },
    {
      "cell_type": "markdown",
      "id": "7bd1fb28",
      "metadata": {
        "id": "7bd1fb28"
      },
      "source": [
        "# 13. What can you do to save a programme from crashing if it encounters an error?"
      ]
    },
    {
      "cell_type": "markdown",
      "id": "1453b079",
      "metadata": {
        "id": "1453b079"
      },
      "source": [
        "Place the line of code that might cause an error in a try clause. (Without the try block, the program will crash and raise an error)"
      ]
    },
    {
      "cell_type": "markdown",
      "id": "0207ae49",
      "metadata": {
        "id": "0207ae49"
      },
      "source": [
        "# 14. What is the purpose of the try clause? What is the purpose of the except clause?"
      ]
    },
    {
      "cell_type": "markdown",
      "id": "aed1549c",
      "metadata": {
        "id": "aed1549c"
      },
      "source": [
        "The 'try' clause lets you test a block of code for errors.\n",
        "\n",
        "The 'except' clause lets you handle the error.\n",
        "\n",
        "(The code that could potentially cause an error goes in the try clause.\n",
        "\n",
        "The code that executes if an error happens goes in the except clause.)\n",
        "\n",
        "additional info : \n",
        "\n",
        "The 'else' block lets you execute code when there is no error.\n",
        "\n",
        "The 'finally' block lets you execute code, regardless of the result of the try- and except blocks."
      ]
    },
    {
      "cell_type": "code",
      "execution_count": null,
      "id": "eb010247",
      "metadata": {
        "id": "eb010247"
      },
      "outputs": [],
      "source": []
    }
  ],
  "metadata": {
    "kernelspec": {
      "display_name": "Python 3 (ipykernel)",
      "language": "python",
      "name": "python3"
    },
    "language_info": {
      "codemirror_mode": {
        "name": "ipython",
        "version": 3
      },
      "file_extension": ".py",
      "mimetype": "text/x-python",
      "name": "python",
      "nbconvert_exporter": "python",
      "pygments_lexer": "ipython3",
      "version": "3.9.12"
    },
    "colab": {
      "provenance": []
    }
  },
  "nbformat": 4,
  "nbformat_minor": 5
}