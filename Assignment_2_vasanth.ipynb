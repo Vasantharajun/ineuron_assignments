{
  "cells": [
    {
      "cell_type": "markdown",
      "id": "b0adfeb3",
      "metadata": {
        "id": "b0adfeb3"
      },
      "source": [
        "# 1.What are the two values of the Boolean data type? How do you write them?"
      ]
    },
    {
      "cell_type": "markdown",
      "id": "dedf0c19",
      "metadata": {
        "id": "dedf0c19"
      },
      "source": [
        "The boolean data type is used to represent the truth value of an expression. The boolean value are of two types i.e. either True or False."
      ]
    },
    {
      "cell_type": "markdown",
      "id": "80398bd4",
      "metadata": {
        "id": "80398bd4"
      },
      "source": [
        "The legal values for Boolean are true ('t'), false ('f') or NULL. The values are not case sensitive.\n"
      ]
    },
    {
      "cell_type": "markdown",
      "id": "b4987fd0",
      "metadata": {
        "id": "b4987fd0"
      },
      "source": [
        "# 2. What are the three different types of Boolean operators?"
      ]
    },
    {
      "cell_type": "markdown",
      "id": "f80c7148",
      "metadata": {
        "id": "f80c7148"
      },
      "source": [
        "There are three logical operators that are used to compare values i.e. 'and', 'or', and 'not'."
      ]
    },
    {
      "cell_type": "markdown",
      "id": "02bfddd1",
      "metadata": {
        "id": "02bfddd1"
      },
      "source": [
        "# 3. Make a list of each Boolean operator's truth tables (i.e. every possible combination of Boolean values for the operator and what it evaluate )."
      ]
    },
    {
      "cell_type": "code",
      "execution_count": 1,
      "id": "5a388fdf",
      "metadata": {
        "colab": {
          "base_uri": "https://localhost:8080/"
        },
        "id": "5a388fdf",
        "outputId": "18c7cb1e-4c3b-4fab-9f16-4615e81e2930"
      },
      "outputs": [
        {
          "output_type": "execute_result",
          "data": {
            "text/plain": [
              "True"
            ]
          },
          "metadata": {},
          "execution_count": 1
        }
      ],
      "source": [
        "True and True"
      ]
    },
    {
      "cell_type": "code",
      "execution_count": 2,
      "id": "378df380",
      "metadata": {
        "colab": {
          "base_uri": "https://localhost:8080/"
        },
        "id": "378df380",
        "outputId": "3a1c2f26-93cf-4452-b6bd-600c011ed164"
      },
      "outputs": [
        {
          "output_type": "execute_result",
          "data": {
            "text/plain": [
              "False"
            ]
          },
          "metadata": {},
          "execution_count": 2
        }
      ],
      "source": [
        "True and False"
      ]
    },
    {
      "cell_type": "code",
      "execution_count": 3,
      "id": "b764af96",
      "metadata": {
        "colab": {
          "base_uri": "https://localhost:8080/"
        },
        "id": "b764af96",
        "outputId": "4e00b4e7-7655-4f27-f659-ee09ca0f21cc"
      },
      "outputs": [
        {
          "output_type": "execute_result",
          "data": {
            "text/plain": [
              "False"
            ]
          },
          "metadata": {},
          "execution_count": 3
        }
      ],
      "source": [
        "False and True"
      ]
    },
    {
      "cell_type": "code",
      "execution_count": 4,
      "id": "d8312f83",
      "metadata": {
        "colab": {
          "base_uri": "https://localhost:8080/"
        },
        "id": "d8312f83",
        "outputId": "e3810d3c-51e1-49e7-f985-fee02dd79d6b"
      },
      "outputs": [
        {
          "output_type": "execute_result",
          "data": {
            "text/plain": [
              "False"
            ]
          },
          "metadata": {},
          "execution_count": 4
        }
      ],
      "source": [
        "False and False"
      ]
    },
    {
      "cell_type": "code",
      "execution_count": 5,
      "id": "78a0606b",
      "metadata": {
        "colab": {
          "base_uri": "https://localhost:8080/"
        },
        "id": "78a0606b",
        "outputId": "11de3c66-031d-4b6d-f546-d7ccbe755ce8"
      },
      "outputs": [
        {
          "output_type": "execute_result",
          "data": {
            "text/plain": [
              "True"
            ]
          },
          "metadata": {},
          "execution_count": 5
        }
      ],
      "source": [
        "True or True"
      ]
    },
    {
      "cell_type": "code",
      "execution_count": 6,
      "id": "7d3d602d",
      "metadata": {
        "colab": {
          "base_uri": "https://localhost:8080/"
        },
        "id": "7d3d602d",
        "outputId": "27ead777-5db5-4072-f4a2-51f8edc795b0"
      },
      "outputs": [
        {
          "output_type": "execute_result",
          "data": {
            "text/plain": [
              "True"
            ]
          },
          "metadata": {},
          "execution_count": 6
        }
      ],
      "source": [
        "True or False"
      ]
    },
    {
      "cell_type": "code",
      "execution_count": 7,
      "id": "f366480f",
      "metadata": {
        "colab": {
          "base_uri": "https://localhost:8080/"
        },
        "id": "f366480f",
        "outputId": "05ced989-6905-4744-fcd7-ebe30cb8550b"
      },
      "outputs": [
        {
          "output_type": "execute_result",
          "data": {
            "text/plain": [
              "True"
            ]
          },
          "metadata": {},
          "execution_count": 7
        }
      ],
      "source": [
        "False or True"
      ]
    },
    {
      "cell_type": "code",
      "execution_count": 8,
      "id": "c826bbf3",
      "metadata": {
        "colab": {
          "base_uri": "https://localhost:8080/"
        },
        "id": "c826bbf3",
        "outputId": "064bf938-ab71-427a-8622-33d65f594a64"
      },
      "outputs": [
        {
          "output_type": "execute_result",
          "data": {
            "text/plain": [
              "False"
            ]
          },
          "metadata": {},
          "execution_count": 8
        }
      ],
      "source": [
        "False or False"
      ]
    },
    {
      "cell_type": "code",
      "execution_count": 9,
      "id": "3b05e4a1",
      "metadata": {
        "colab": {
          "base_uri": "https://localhost:8080/"
        },
        "id": "3b05e4a1",
        "outputId": "f9b3819c-e0bf-4688-bb07-43c159726304"
      },
      "outputs": [
        {
          "output_type": "execute_result",
          "data": {
            "text/plain": [
              "False"
            ]
          },
          "metadata": {},
          "execution_count": 9
        }
      ],
      "source": [
        "not True"
      ]
    },
    {
      "cell_type": "code",
      "execution_count": 10,
      "id": "e2620b0a",
      "metadata": {
        "colab": {
          "base_uri": "https://localhost:8080/"
        },
        "id": "e2620b0a",
        "outputId": "cf1113af-2159-4bf5-f5d6-0d6abbe00559"
      },
      "outputs": [
        {
          "output_type": "execute_result",
          "data": {
            "text/plain": [
              "True"
            ]
          },
          "metadata": {},
          "execution_count": 10
        }
      ],
      "source": [
        "not False"
      ]
    },
    {
      "cell_type": "markdown",
      "id": "7527140e",
      "metadata": {
        "id": "7527140e"
      },
      "source": [
        "# 4. What are the values of the following expressions?"
      ]
    },
    {
      "cell_type": "code",
      "execution_count": 11,
      "id": "bf6a715f",
      "metadata": {
        "colab": {
          "base_uri": "https://localhost:8080/"
        },
        "id": "bf6a715f",
        "outputId": "8310c922-724a-4b81-8e61-945eca977c2a"
      },
      "outputs": [
        {
          "output_type": "execute_result",
          "data": {
            "text/plain": [
              "False"
            ]
          },
          "metadata": {},
          "execution_count": 11
        }
      ],
      "source": [
        "(5>4) and (3==5)"
      ]
    },
    {
      "cell_type": "code",
      "execution_count": 12,
      "id": "45c669f1",
      "metadata": {
        "colab": {
          "base_uri": "https://localhost:8080/"
        },
        "id": "45c669f1",
        "outputId": "1cd36ca8-4ad4-4681-d3fe-1535c6349c20"
      },
      "outputs": [
        {
          "output_type": "execute_result",
          "data": {
            "text/plain": [
              "False"
            ]
          },
          "metadata": {},
          "execution_count": 12
        }
      ],
      "source": [
        "not(5>4)"
      ]
    },
    {
      "cell_type": "code",
      "execution_count": 13,
      "id": "33b53960",
      "metadata": {
        "colab": {
          "base_uri": "https://localhost:8080/"
        },
        "id": "33b53960",
        "outputId": "8dbaea62-268d-4e36-fb68-9771c7678c76"
      },
      "outputs": [
        {
          "output_type": "execute_result",
          "data": {
            "text/plain": [
              "True"
            ]
          },
          "metadata": {},
          "execution_count": 13
        }
      ],
      "source": [
        "(5>4) or (3==5)"
      ]
    },
    {
      "cell_type": "code",
      "execution_count": 14,
      "id": "d1463a39",
      "metadata": {
        "colab": {
          "base_uri": "https://localhost:8080/"
        },
        "id": "d1463a39",
        "outputId": "3cdf5ebb-0e87-4cde-865e-5d7412114f14"
      },
      "outputs": [
        {
          "output_type": "execute_result",
          "data": {
            "text/plain": [
              "False"
            ]
          },
          "metadata": {},
          "execution_count": 14
        }
      ],
      "source": [
        "not(5>4) or (3==5)"
      ]
    },
    {
      "cell_type": "code",
      "execution_count": 15,
      "id": "43fe52f8",
      "metadata": {
        "colab": {
          "base_uri": "https://localhost:8080/"
        },
        "id": "43fe52f8",
        "outputId": "5df27895-b3f4-4732-909f-ff23dbcdb23f"
      },
      "outputs": [
        {
          "output_type": "execute_result",
          "data": {
            "text/plain": [
              "False"
            ]
          },
          "metadata": {},
          "execution_count": 15
        }
      ],
      "source": [
        "(True and True) and (True == False)"
      ]
    },
    {
      "cell_type": "code",
      "execution_count": 16,
      "id": "666ed14e",
      "metadata": {
        "colab": {
          "base_uri": "https://localhost:8080/"
        },
        "id": "666ed14e",
        "outputId": "89d77862-fa8d-45a4-9912-cb9e5c4e4fa6"
      },
      "outputs": [
        {
          "output_type": "execute_result",
          "data": {
            "text/plain": [
              "True"
            ]
          },
          "metadata": {},
          "execution_count": 16
        }
      ],
      "source": [
        "(not False) or (not True)"
      ]
    },
    {
      "cell_type": "markdown",
      "id": "50aa2c91",
      "metadata": {
        "id": "50aa2c91"
      },
      "source": [
        "# 5. What are the six comparison operators?"
      ]
    },
    {
      "cell_type": "markdown",
      "id": "5f2ae3f2",
      "metadata": {
        "id": "5f2ae3f2"
      },
      "source": [
        " ==, !=, <, >, <=, >=. "
      ]
    },
    {
      "cell_type": "markdown",
      "id": "b88c8ea3",
      "metadata": {
        "id": "b88c8ea3"
      },
      "source": [
        "# 6. How do you tell the difference between the equal to and assignment operators? Describe a condition and when you would use one."
      ]
    },
    {
      "cell_type": "markdown",
      "id": "c209d5b9",
      "metadata": {
        "id": "c209d5b9"
      },
      "source": [
        "'==' operator checks whether the two given operands are equal or not. and “=” is an assignment operator is used to assign the value on the right to the variable on the left."
      ]
    },
    {
      "cell_type": "code",
      "execution_count": 17,
      "id": "00d1def9",
      "metadata": {
        "colab": {
          "base_uri": "https://localhost:8080/"
        },
        "id": "00d1def9",
        "outputId": "0976cfc9-9979-40e0-c8d2-4a11d9d73c2b"
      },
      "outputs": [
        {
          "output_type": "stream",
          "name": "stdout",
          "text": [
            "False\n"
          ]
        }
      ],
      "source": [
        "a = 10\n",
        "if a == 9:\n",
        "    print(\"True\")\n",
        "else:\n",
        "    print(\"False\")\n"
      ]
    },
    {
      "cell_type": "markdown",
      "id": "ca9c7bfd",
      "metadata": {
        "id": "ca9c7bfd"
      },
      "source": [
        "In this code, variable 'a' is assigned value 10 and using 'if' condition to check whether a is 'equal to' 9 or not.\n",
        " "
      ]
    },
    {
      "cell_type": "markdown",
      "id": "0cb5e8ca",
      "metadata": {
        "id": "0cb5e8ca"
      },
      "source": [
        "# 7. Identify the three blocks in this code:"
      ]
    },
    {
      "cell_type": "code",
      "execution_count": 18,
      "id": "8c583adb",
      "metadata": {
        "colab": {
          "base_uri": "https://localhost:8080/"
        },
        "id": "8c583adb",
        "outputId": "a178ac4a-ef51-441b-d38d-7a22a664c79b"
      },
      "outputs": [
        {
          "output_type": "stream",
          "name": "stdout",
          "text": [
            "ham\n",
            "spam\n",
            "spam\n"
          ]
        }
      ],
      "source": [
        "spam = 0\n",
        "\n",
        "if spam == 10:\n",
        "  print(\"eggs\")\n",
        "\n",
        "if spam > 5:\n",
        "  print(\"bacon\")\n",
        "else:\n",
        "  print(\"ham\")\n",
        "  print(\"spam\")\n",
        "  print(\"spam\")"
      ]
    },
    {
      "cell_type": "markdown",
      "id": "48936880",
      "metadata": {
        "id": "48936880"
      },
      "source": [
        "The three blocks :\n",
        "\n",
        "Block 1 (Initialization) - spam =0 \n",
        "\n",
        "Block 2  - if spam > 5\n",
        "           print('bacon')\n",
        "\n",
        "Block 3  - remaining if else block till print (\"spam\")."
      ]
    },
    {
      "cell_type": "markdown",
      "id": "34a5d1a5",
      "metadata": {
        "id": "34a5d1a5"
      },
      "source": [
        "# 8. Write code that prints Hello if 1 is stored in spam, prints Howdy if 2 is stored in spam, and prints Greetings! if anything else is stored in spam."
      ]
    },
    {
      "cell_type": "code",
      "execution_count": 19,
      "id": "0ae08f9b",
      "metadata": {
        "colab": {
          "base_uri": "https://localhost:8080/"
        },
        "id": "0ae08f9b",
        "outputId": "56505567-fcb0-46e9-8d66-ffe29b4e50fc"
      },
      "outputs": [
        {
          "output_type": "stream",
          "name": "stdout",
          "text": [
            "3\n",
            "Greetings!\n"
          ]
        }
      ],
      "source": [
        "spam = int(input())\n",
        "if spam == 1:\n",
        "    print(\"Hello\")\n",
        "elif spam == 2:\n",
        "    print(\"Howdy\")\n",
        "else :\n",
        "    print(\"Greetings!\")"
      ]
    },
    {
      "cell_type": "markdown",
      "id": "4c795c4f",
      "metadata": {
        "id": "4c795c4f"
      },
      "source": [
        "# 9.If your programme is stuck in an endless loop, what keys you’ll press?"
      ]
    },
    {
      "cell_type": "markdown",
      "id": "4aa6d039",
      "metadata": {
        "id": "4aa6d039"
      },
      "source": [
        "we can press CTRL + C to stop an endless loop. An endless loop is a loop that occurs when a program keeps executing within one loop and it only stops when a break statement is found or externally CTRL+C."
      ]
    },
    {
      "cell_type": "markdown",
      "id": "b88a2509",
      "metadata": {
        "id": "b88a2509"
      },
      "source": [
        "# 10. How can you tell the difference between break and continue?"
      ]
    },
    {
      "cell_type": "markdown",
      "id": "c5eab98f",
      "metadata": {
        "id": "c5eab98f"
      },
      "source": [
        "When break statement comes, it terminates the execution of the current loop and passes the control over the next loop or main body, whereas when continue statement is come across, it skips the current iteration and executes the very next iteration in the loop."
      ]
    },
    {
      "cell_type": "markdown",
      "id": "dea654c9",
      "metadata": {
        "id": "dea654c9"
      },
      "source": [
        "# 11. In a for loop, what is the difference between range(10), range(0, 10), and range(0, 10, 1)?"
      ]
    },
    {
      "cell_type": "code",
      "execution_count": 20,
      "id": "da88bf81",
      "metadata": {
        "colab": {
          "base_uri": "https://localhost:8080/"
        },
        "id": "da88bf81",
        "outputId": "8b2f19b9-8fdc-4b7f-bd8b-4d2993f31f44"
      },
      "outputs": [
        {
          "output_type": "stream",
          "name": "stdout",
          "text": [
            "0\n",
            "1\n",
            "2\n",
            "3\n",
            "4\n",
            "5\n",
            "6\n",
            "7\n",
            "8\n",
            "9\n"
          ]
        }
      ],
      "source": [
        "for i in range(10):\n",
        "    print(i)"
      ]
    },
    {
      "cell_type": "code",
      "execution_count": 21,
      "id": "22c6a2dc",
      "metadata": {
        "colab": {
          "base_uri": "https://localhost:8080/"
        },
        "id": "22c6a2dc",
        "outputId": "d2ad1188-638a-4947-aec2-fa6cce5e2db3"
      },
      "outputs": [
        {
          "output_type": "stream",
          "name": "stdout",
          "text": [
            "0\n",
            "1\n",
            "2\n",
            "3\n",
            "4\n",
            "5\n",
            "6\n",
            "7\n",
            "8\n",
            "9\n"
          ]
        }
      ],
      "source": [
        "for i in range(0,10):\n",
        "    print(i)"
      ]
    },
    {
      "cell_type": "code",
      "execution_count": 22,
      "id": "e5c2d8c6",
      "metadata": {
        "colab": {
          "base_uri": "https://localhost:8080/"
        },
        "id": "e5c2d8c6",
        "outputId": "65ca833e-39bd-40dd-9e0a-22a80de98de8"
      },
      "outputs": [
        {
          "output_type": "stream",
          "name": "stdout",
          "text": [
            "0\n",
            "1\n",
            "2\n",
            "3\n",
            "4\n",
            "5\n",
            "6\n",
            "7\n",
            "8\n",
            "9\n"
          ]
        }
      ],
      "source": [
        "for i in range(0,10,1):\n",
        "    print(i)"
      ]
    },
    {
      "cell_type": "markdown",
      "id": "7eef566e",
      "metadata": {
        "id": "7eef566e"
      },
      "source": [
        "They all do the same thing. The range(10) call ranges from 0 up to (but not including) 10, range(0, 10) explicitly tells the loop to start at 0, and range(0, 10, 1) explicitly tells the loop to increase the integer by 1 on each iteration."
      ]
    },
    {
      "cell_type": "markdown",
      "id": "f9b4e646",
      "metadata": {
        "id": "f9b4e646"
      },
      "source": [
        "# 12. Write a short program that prints the numbers 1 to 10 using a for loop. Then write an equivalent program that prints the numbers 1 to 10 using a while loop."
      ]
    },
    {
      "cell_type": "markdown",
      "id": "a0815a46",
      "metadata": {
        "id": "a0815a46"
      },
      "source": [
        "Using For Loop."
      ]
    },
    {
      "cell_type": "code",
      "execution_count": 25,
      "id": "50a3bf10",
      "metadata": {
        "colab": {
          "base_uri": "https://localhost:8080/"
        },
        "id": "50a3bf10",
        "outputId": "6ce487ed-809d-4eab-ca67-47942c2222b8"
      },
      "outputs": [
        {
          "output_type": "stream",
          "name": "stdout",
          "text": [
            "1\n",
            "2\n",
            "3\n",
            "4\n",
            "5\n",
            "6\n",
            "7\n",
            "8\n",
            "9\n",
            "10\n"
          ]
        }
      ],
      "source": [
        "for i in range(1, 11):\n",
        "  print(i)"
      ]
    },
    {
      "cell_type": "markdown",
      "id": "fed8ae08",
      "metadata": {
        "id": "fed8ae08"
      },
      "source": [
        "Using While Loop."
      ]
    },
    {
      "cell_type": "code",
      "execution_count": 30,
      "id": "f18c95f5",
      "metadata": {
        "colab": {
          "base_uri": "https://localhost:8080/"
        },
        "id": "f18c95f5",
        "outputId": "d207621d-80e9-4f54-ad94-c563cd834eff"
      },
      "outputs": [
        {
          "output_type": "stream",
          "name": "stdout",
          "text": [
            "1\n",
            "2\n",
            "3\n",
            "4\n",
            "5\n",
            "6\n",
            "7\n",
            "8\n",
            "9\n",
            "10\n"
          ]
        }
      ],
      "source": [
        "i = 1\n",
        "while(i<=10):\n",
        "  print(i)\n",
        "  i += 1"
      ]
    },
    {
      "cell_type": "markdown",
      "id": "455dce78",
      "metadata": {
        "id": "455dce78"
      },
      "source": [
        "# 13. If you had a function named bacon() inside a module named spam, how would you call it after importing spam?"
      ]
    },
    {
      "cell_type": "markdown",
      "id": "187d52f0",
      "metadata": {
        "id": "187d52f0"
      },
      "source": [
        "First step : import spam   (Importing module spam)\n",
        "\n",
        "Second step : spam.bacon()   (Calling function bacon inside spam modue)"
      ]
    }
  ],
  "metadata": {
    "kernelspec": {
      "display_name": "Python 3 (ipykernel)",
      "language": "python",
      "name": "python3"
    },
    "language_info": {
      "codemirror_mode": {
        "name": "ipython",
        "version": 3
      },
      "file_extension": ".py",
      "mimetype": "text/x-python",
      "name": "python",
      "nbconvert_exporter": "python",
      "pygments_lexer": "ipython3",
      "version": "3.9.7"
    },
    "colab": {
      "provenance": []
    }
  },
  "nbformat": 4,
  "nbformat_minor": 5
}